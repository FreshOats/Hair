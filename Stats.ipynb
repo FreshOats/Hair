{
 "cells": [
  {
   "cell_type": "code",
   "execution_count": 1,
   "metadata": {},
   "outputs": [],
   "source": [
    "import pandas as pd\n",
    "import numpy as np"
   ]
  },
  {
   "cell_type": "code",
   "execution_count": null,
   "metadata": {},
   "outputs": [],
   "source": [
    "# Hair attributes\n",
    "\n",
    "# Hairs on scalp\n",
    "blonde = 150000\n",
    "brown = 110000\n",
    "black = 100000\n",
    "red = 90000\n",
    "\n",
    "# Shaft Diameter\n",
    "blonde_diam = .025 # 25 um (blonde)\n",
    "black_kink_diam = 0.055 # 55 um, (African black/brown hair)\n",
    "brown_diam = 0.065 # 65 um (Caucasian Brown hair) \n",
    "black_diam = .080 # 80 um (avg Caucasion black hair)\n",
    "red_diam = 0.100 # 100 um (most likely red hair)\n",
    "st_black_diam = 0.120 # 120 um (most Asian black hair)\n",
    "\n",
    "# Cuticle Properties\n",
    "cuticle_thickness = 0.0005 # 0.5 um\n",
    "cuticle_length = 0.050 # 50 um\n",
    "\n",
    "# Shedding\n",
    "black_shed = 60 # hairs per day\n",
    "red_shed = 50 # hairs per day\n",
    "brown_shed = 75 # hairs per day\n",
    "blonde_shed = 100 # hairs per day\n",
    "\n",
    "low_shed = 50\n",
    "mid_shed = 75\n",
    "high_shed = 100\n",
    "very_high_shed = 150\n",
    "\n",
    "# Growth rates\n",
    "thick_growth = 11.4  # mm per month\n",
    "thin_growth = 7.6 # mm per month\n",
    "avg_growth = 10 # mm/month (28 days)\n",
    "\n",
    "black_growth = 11.4  # mm per month\n",
    "red_growth = 11.4  # mm per month\n",
    "brown_growth = 10 # guess mm per month\n",
    "blonde_growth = 7.6 # mm per month\n",
    "\n",
    "# MM to inch conversion\n",
    "mm_per_inch = 24.5 # mm per inch conversion\n"
   ]
  },
  {
   "cell_type": "markdown",
   "metadata": {},
   "source": [
    "I want to create a function that allows the user to input the attributes of their hair and a either a number of years to see the length, or a length to get the number of years. "
   ]
  },
  {
   "cell_type": "code",
   "execution_count": 2,
   "metadata": {},
   "outputs": [],
   "source": [
    "# Hair Type Factors \n",
    "# A = Fine, B = Medium, C = Coarse\n",
    "# This measures the diameter of the hair strand in microns\n",
    "\n",
    "Fine = 0.045\n",
    "Medium = 0.08\n",
    "Coarse = 0.110\n",
    "\n",
    "# 1  = straight, 2 = wavy, 3 = curly, 4 = coily\n",
    "# Hair type density factor - curlier hairs have a greater depth than the straight hairs\n",
    "# This is a non-unit multiplier to increase or decrease strand diameter based on the condition\n",
    "Straight = 0.9\n",
    "Wavy = 1.0\n",
    "Curly = 1.1\n",
    "Coily = 1.2\n",
    "\n",
    "# Color-depth factors, certain colors are associated with finer hair than the benchmarks set\n",
    "# Since hair color also impacts the diameter, this is another nondimensional further modifies the depth of the hair\n",
    "Blonde = 0.33\n",
    "Chestnut = 0.75\n",
    "Brown = 0.9\n",
    "Red = 0.95\n",
    "Black = 1.0\n",
    "\n",
    "# Hair density - total number of hairs on an adult scalp \n",
    "Blonde_density = 150000 \n",
    "Chestnut_density = 110000\n",
    "Brown_density = 110000\n",
    "Red_density = 90000\n",
    "Black_density = 100000\n",
    "\n",
    "# Shed Factor - total hair divided by shed factor gives the number of hairs lost per day\n",
    "Fine_shed = 1500\n",
    "Medium_shed = 1750\n",
    "Coarse_shed = 1800\n",
    "\n",
    "# Growth Rate in mm/day\n",
    "Fine_growth = 7.6\n",
    "Medium_growth = 10\n",
    "Coarse_growth = 11.4"
   ]
  },
  {
   "cell_type": "markdown",
   "metadata": {},
   "source": [
    "To determine rate of growth, we need to know how coarse the hair is. \n",
    "I can use the table to select what hair looks like, and the user can enter like 3,B or 1,A...\n",
    "Any Entry of A, B, or C gives the needed diameter. \n",
    "Will need to get color as well to get the scalp density. \n",
    "\n",
    "\n",
    "Alternatively I can create a function where they input hair color and coarseness. This is all that is needed for hair density and hair growth. \n",
    "\n",
    "If I want to calculate curl length, I'll need to explain how to measure. Measure dry hair with the curl in either inches or mm. Then pull the hair straight and remeasure. \n",
    "\n",
    "If a curl measures in length to be 1.5 inches and when pulled straight it is 3 inches, then the curl factor is 2. When determining the length of growth of the hair, it will be reduced by this factor, since the hair from the follicle is growing at the growth rate, but as it curls, it doesn't add as much length. "
   ]
  },
  {
   "cell_type": "code",
   "execution_count": 3,
   "metadata": {},
   "outputs": [
    {
     "data": {
      "text/plain": [
       "49500.0"
      ]
     },
     "execution_count": 3,
     "metadata": {},
     "output_type": "execute_result"
    }
   ],
   "source": [
    "\n",
    "Blonde_density * Blonde"
   ]
  },
  {
   "cell_type": "markdown",
   "metadata": {},
   "source": [
    "What needs to be considered in this model is the type of hair - color and coarseness determine the number of hairs to start with, which determines the number in telogen that after 3 months can be shed. Color also determines how coarse/diameter of the hairs are. \n",
    "The thickness of the hair determines both the growth rate of the hair as well as the amount of shedding of the hair. \n",
    "\n",
    "The number of available hairs in the telogen phase are decreased by the number shed per day, however, we know that the hairs shed are replaced by new growth, so there should be no net loss of hairs - those that are removed from the telogen must be added back to the anagen. "
   ]
  },
  {
   "cell_type": "code",
   "execution_count": null,
   "metadata": {},
   "outputs": [],
   "source": [
    "# Hair phases distribution\n",
    "anagen = 0.9\n",
    "catagen = 0.01\n",
    "telogen = 0.09\n",
    "\n",
    "anagen_short = 24 # months, 2 years\n",
    "anagen_avg = 48 # months, 4 years\n",
    "anagen_long = 72 # months, 6 years\n",
    "\n",
    "catagen_avg = 0.5 # 2 weeks or 1/2 month\n",
    "telogen_avg = 3 # months\n",
    "\n",
    "# Shedding\n",
    "shedding_low = 50 # strands per day\n",
    "shedding_high = 100 # strands per day\n",
    "\n",
    "# Telogen Effluvium - can have up to 50% of hairs in telogen phase\n",
    "# This is completely reversible by removing stressor\n",
    "anagen_effluvium = 0.5\n",
    "catagen_effluvium = 0.01\n",
    "telogen_effluvium = 0.49\n",
    "\n",
    "\n",
    "# Alopecia / Hair Loss \n",
    "# Also has a decresed proportion of anagen and increased catagen and telogen\n",
    "# Additionally there is a lower overall count of scalp hair with functioning follicles\n",
    "# Thickness also decreases, so production is generally shorter finer hairs\n",
    "anagen_alopecia = 0.6\n",
    "catagen_alopecia = 0.02\n",
    "telogen_alopecia = 0.38\n",
    "\n",
    "\n",
    "# Percent of people experiencing hair loss (not shedding)\n",
    "men_at_50 = 0.5 # 50%\n",
    "men_at_80 = 0.7 # 70%\n",
    "women_under_40 = 0.65 # between 3 and 13 percent\n",
    "women_over_70 = 0.43 # between 32 and 54 percent\n",
    "\n"
   ]
  },
  {
   "cell_type": "code",
   "execution_count": null,
   "metadata": {},
   "outputs": [],
   "source": [
    "# Hair composition\n",
    "water_low = .04 # 4%\n",
    "water_high = 0.13 # 13 %\n",
    "\n",
    "protein_low = .85 # 85%\n",
    "protein_high = .91 # 91%\n",
    "\n",
    "ash_low = 0.0023 # 0.23%\n",
    "ash_high = 0.009 # 0.9 %\n",
    "\n",
    "fat = 0.023 # 2.3%\n",
    "\n",
    "# Factor of diameter increase with 100% humidity compared to 0% humidity\n",
    "humidity_factor = 1.14 # there is a 14% increase from dry diameter"
   ]
  }
 ],
 "metadata": {
  "kernelspec": {
   "display_name": "PythonData",
   "language": "python",
   "name": "python3"
  },
  "language_info": {
   "codemirror_mode": {
    "name": "ipython",
    "version": 3
   },
   "file_extension": ".py",
   "mimetype": "text/x-python",
   "name": "python",
   "nbconvert_exporter": "python",
   "pygments_lexer": "ipython3",
   "version": "3.9.12"
  }
 },
 "nbformat": 4,
 "nbformat_minor": 2
}
